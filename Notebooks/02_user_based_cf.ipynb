{
 "cells": [
  {
   "cell_type": "code",
   "execution_count": null,
   "id": "fc1ab83a",
   "metadata": {
    "vscode": {
     "languageId": "plaintext"
    }
   },
   "outputs": [],
   "source": [
    " #2) Implement User-Based Collaborative Filtering\n",
    "\n",
    "# Split and train model\n",
    "trainset, testset = train_test_split(data, test_size=0.25)\n",
    "\n",
    "user_cf = KNNBasic(sim_options={'name': 'cosine', 'user_based': True})\n",
    "user_cf.fit(trainset)"
   ]
  }
 ],
 "metadata": {
  "language_info": {
   "name": "python"
  }
 },
 "nbformat": 4,
 "nbformat_minor": 5
}
