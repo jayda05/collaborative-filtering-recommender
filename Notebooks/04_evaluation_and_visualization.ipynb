{
 "cells": [
  {
   "cell_type": "code",
   "execution_count": null,
   "id": "4df1cbae",
   "metadata": {
    "vscode": {
     "languageId": "plaintext"
    }
   },
   "outputs": [],
   "source": [
    "#4) Evaluate the Model (RMSE & Precision/Recall@K)\n",
    "\n",
    "from collections import defaultdict\n",
    "\n",
    "predictions_user = user_cf.test(testset)\n",
    "predictions_item = item_cf.test(testset)\n",
    "\n",
    "rmse_user = accuracy.rmse(predictions_user)\n",
    "rmse_item = accuracy.rmse(predictions_item)\n",
    "\n",
    "print(f\"User-based CF RMSE: {rmse_user:.4f}\")\n",
    "print(f\"Item-based CF RMSE: {rmse_item:.4f}\")\n",
    "\n",
    "\n",
    "def precision_recall_at_k(predictions, k=5, threshold=3.5):\n",
    "    \"\"\"Return precision and recall at k metrics for each user\"\"\"\n",
    "    user_est_true = defaultdict(list)\n",
    "    for uid, _, true_r, est, _ in predictions:\n",
    "        user_est_true[uid].append((est, true_r))\n",
    "\n",
    "    precisions = []\n",
    "    recalls = []\n",
    "\n",
    "    for user_ratings in user_est_true.values():\n",
    "        # Sort user predictions by estimated rating\n",
    "        user_ratings.sort(key=lambda x: x[0], reverse=True)\n",
    "        top_k = user_ratings[:k]\n",
    "\n",
    "        n_rel = sum((true_r >= threshold) for (_, true_r) in user_ratings)\n",
    "        n_rec_k = sum((est >= threshold) for (est, _) in top_k)\n",
    "        n_rel_and_rec_k = sum(((true_r >= threshold) and (est >= threshold)) for (est, true_r) in top_k)\n",
    "\n",
    "        precision = n_rel_and_rec_k / n_rec_k if n_rec_k else 0\n",
    "        recall = n_rel_and_rec_k / n_rel if n_rel else 0\n",
    "\n",
    "        precisions.append(precision)\n",
    "        recalls.append(recall)\n",
    "\n",
    "    return sum(precisions) / len(precisions), sum(recalls) / len(recalls)\n",
    "\n",
    "precision_user, recall_user = precision_recall_at_k(predictions_user, k=5)\n",
    "print(f\"User-based CF Precision@5: {precision_user:.4f}\")\n",
    "print(f\"User-based CF Recall@5: {recall_user:.4f}\")\n",
    "\n",
    "precision_item, recall_item = precision_recall_at_k(predictions_item, k=5)\n",
    "print(f\"Item-based CF Precision@5: {precision_item:.4f}\")\n",
    "print(f\"Item-based CF Recall@5: {recall_item:.4f}\")"
   ]
  }
 ],
 "metadata": {
  "language_info": {
   "name": "python"
  }
 },
 "nbformat": 4,
 "nbformat_minor": 5
}
