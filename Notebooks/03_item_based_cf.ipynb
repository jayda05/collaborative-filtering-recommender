{
 "cells": [
  {
   "cell_type": "code",
   "execution_count": null,
   "id": "91eabc33",
   "metadata": {
    "vscode": {
     "languageId": "plaintext"
    }
   },
   "outputs": [],
   "source": [
    "#3) Implement Item-Based Collaborative Filtering\n",
    "\n",
    "item_cf = KNNBasic(sim_options={'name': 'cosine', 'user_based': False})\n",
    "item_cf.fit(trainset)"
   ]
  }
 ],
 "metadata": {
  "language_info": {
   "name": "python"
  }
 },
 "nbformat": 4,
 "nbformat_minor": 5
}
