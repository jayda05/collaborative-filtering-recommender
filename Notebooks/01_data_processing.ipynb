{
 "cells": [
  {
   "cell_type": "code",
   "execution_count": null,
   "id": "5cb931a7",
   "metadata": {
    "vscode": {
     "languageId": "plaintext"
    }
   },
   "outputs": [],
   "source": [
    " #1) Load and Preprocess the Dataset\n",
    "\n",
    "import pandas as pd\n",
    "from surprise import Dataset, Reader, KNNBasic, accuracy\n",
    "from surprise.model_selection import train_test_split\n",
    "from collections import defaultdict\n",
    "import os\n",
    "\n",
    "# Make sure the path to 'u.data' is correct\n",
    "data_path = 'ml-100k/ml-100k/u.data'  # Adjust if it's inside a subfolder\n",
    "\n",
    "# Load the data\n",
    "ratings = pd.read_csv( data_path, sep='\\t', names=['user_id', 'item_id', 'rating', 'timestamp'])\n",
    "reader = Reader(rating_scale=(1, 5))\n",
    "data = Dataset.load_from_df(ratings[['user_id', 'item_id', 'rating']], reader)"
   ]
  }
 ],
 "metadata": {
  "language_info": {
   "name": "python"
  }
 },
 "nbformat": 4,
 "nbformat_minor": 5
}
